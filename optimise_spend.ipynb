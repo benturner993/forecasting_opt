{
 "cells": [
  {
   "cell_type": "markdown",
   "id": "48971152",
   "metadata": {},
   "source": [
    "# Step 1: Build a forecasting model"
   ]
  },
  {
   "cell_type": "code",
   "execution_count": null,
   "id": "ccee85fe-b4c8-41d0-919f-62f99c6bbde9",
   "metadata": {},
   "outputs": [],
   "source": [
    "import pandas as pd\n",
    "import numpy as np\n",
    "from prophet import Prophet\n",
    "from scipy.optimize import minimize\n",
    "import matplotlib.pyplot as plt"
   ]
  },
  {
   "cell_type": "code",
   "execution_count": null,
   "id": "a207a287",
   "metadata": {},
   "outputs": [],
   "source": [
    "# read dataset\n",
    "df=pd.read_csv('Advertising Budget and Sales.csv')\n",
    "df = df.drop(df.columns[0], axis=1)"
   ]
  },
  {
   "cell_type": "code",
   "execution_count": null,
   "id": "03e9e3e3-167b-4400-987f-d5636068bbd7",
   "metadata": {},
   "outputs": [],
   "source": [
    "# add (fake) dates in prophet formatting\n",
    "n_days = df.shape[0]\n",
    "df['ds'] = pd.date_range(start=\"2022-01-01\", periods=n_days, freq=\"D\")\n",
    "df['y'] = df['Sales ($)']"
   ]
  },
  {
   "cell_type": "code",
   "execution_count": null,
   "id": "f463713c-14d3-4ab1-b4ef-670617abceec",
   "metadata": {},
   "outputs": [],
   "source": [
    "# create in an out of time testing datasets\n",
    "print(df.shape[0])\n",
    "df_prophet_train = df[df['ds'] < pd.to_datetime('2022-06-01')]\n",
    "df_prophet_test = df[df['ds'] >= pd.to_datetime('2022-06-01')]\n",
    "df_prophet_test2 = df_prophet_test.copy()\n",
    "print(df_prophet_train.shape[0]+df_prophet_test.shape[0])"
   ]
  },
  {
   "cell_type": "code",
   "execution_count": null,
   "id": "d59a4723-2c4c-42a0-a914-56e7c0ed9fb9",
   "metadata": {},
   "outputs": [],
   "source": [
    "# initialize and fit prophet model\n",
    "model = Prophet(yearly_seasonality=True, daily_seasonality=True)\n",
    "model.add_regressor('TV Ad Budget ($)')\n",
    "model.add_regressor('Radio Ad Budget ($)')\n",
    "model.add_regressor('Newspaper Ad Budget ($)')\n",
    "model.fit(df_prophet_train)"
   ]
  },
  {
   "cell_type": "code",
   "execution_count": null,
   "id": "e395e9be-f8e1-40a3-8608-5957361c9627",
   "metadata": {},
   "outputs": [],
   "source": [
    "# use forecasting model for the out of time test sample\n",
    "forecast = model.predict(df_prophet_test)"
   ]
  },
  {
   "cell_type": "code",
   "execution_count": null,
   "id": "f9971377-ebfd-46c2-90d4-610eef3a28a9",
   "metadata": {},
   "outputs": [],
   "source": [
    "# merge actuals and predicteds to assess performance\n",
    "result_df = pd.merge(df, forecast[['ds', 'yhat']], on='ds', how='left')\n",
    "result_df['prediction'] = np.where(result_df['yhat'].isnull(), result_df['y'], result_df['yhat'])"
   ]
  },
  {
   "cell_type": "code",
   "execution_count": null,
   "id": "3e6cf24f-444d-434e-88a9-fa65d6b06377",
   "metadata": {},
   "outputs": [],
   "source": [
    "# Plot the data\n",
    "plt.figure(figsize=(10, 6))  # Set figure size\n",
    "plt.plot(result_df[\"ds\"], result_df[\"y\"], label=\"Sales\", marker=\"o\", color='k')\n",
    "plt.plot(result_df[\"ds\"], result_df[\"yhat\"], label=\"Predicted Sales\", marker=\"s\", color='b')\n",
    "\n",
    "# Add a vertical line for 2024-01-01\n",
    "highlight_date = pd.Timestamp(\"2022-06-01\")\n",
    "plt.axvline(x=highlight_date, color=\"red\", linestyle=\"--\", label=\"2024-01-01\")\n",
    "\n",
    "# Rotate x-axis labels\n",
    "plt.xticks(rotation=90)\n",
    "\n",
    "# Add labels, title, and legend\n",
    "plt.xlabel(\"Date\")\n",
    "plt.ylabel(\"Values\")\n",
    "plt.title(\"Line Plot with Rotated Dates\")\n",
    "plt.legend()\n",
    "\n",
    "# Show the plot\n",
    "plt.tight_layout()  # Adjust layout to prevent cutoff of labels\n",
    "plt.show()"
   ]
  },
  {
   "cell_type": "code",
   "execution_count": null,
   "id": "a2fa3a10-ca30-48f8-a18b-4c6c60bd558a",
   "metadata": {},
   "outputs": [],
   "source": [
    "print(result_df[result_df['yhat'].notnull()]['y'].sum())\n",
    "print(result_df[result_df['yhat'].notnull()]['yhat'].sum())"
   ]
  },
  {
   "cell_type": "markdown",
   "id": "36350869",
   "metadata": {},
   "source": [
    "# Step 2: Use model for \"what if\" scenarios"
   ]
  },
  {
   "cell_type": "markdown",
   "id": "345a84b1",
   "metadata": {},
   "source": [
    "Using the model, we wish to find the optimal spend across the channels to maximise the number of leads."
   ]
  },
  {
   "cell_type": "code",
   "execution_count": null,
   "id": "c00ef889-fb6e-418d-8d99-316d45013dee",
   "metadata": {},
   "outputs": [],
   "source": [
    "available_spend = df_prophet_test['TV Ad Budget ($)'].sum() + df_prophet_test['Radio Ad Budget ($)'].sum() + df_prophet_test['Newspaper Ad Budget ($)'].sum()\n",
    "\n",
    "print(f\"Available Spend: ${available_spend}\")"
   ]
  },
  {
   "cell_type": "code",
   "execution_count": null,
   "id": "c2e6ee82-40ef-459b-8f9a-e4ad5268b8ea",
   "metadata": {},
   "outputs": [],
   "source": [
    "from skopt import gp_minimize\n",
    "from skopt.space import Real\n",
    "from skopt.utils import use_named_args\n",
    "\n",
    "# set a marketing budget\n",
    "budget=10000\n",
    "\n",
    "def predict_leads(tv_spend, radio_spend, newspaper_spend, model, df_prophet_test):\n",
    "\n",
    "    # determine the number of rows to be used for uniform distribution of spend*\n",
    "    # uniform distribution of spend may not be the \"optimal\"\n",
    "    nrows=df_prophet_test.shape[0]\n",
    "    \n",
    "    # Assign the ad budgets to the dataframe columns\n",
    "    df_prophet_test['TV Ad Budget ($)'] = [tv_spend/nrows] * nrows \n",
    "    df_prophet_test['Radio Ad Budget ($)'] = [radio_spend/nrows] * nrows\n",
    "    df_prophet_test['Newspaper Ad Budget ($)'] = [newspaper_spend/nrows] * nrows\n",
    "    \n",
    "    # Make the forecast using the model\n",
    "    forecast = model.predict(df_prophet_test)\n",
    "    \n",
    "    # Return the sum of the predicted leads (you can use other metrics like the average or max)\n",
    "    return forecast['yhat'].sum()  # Assuming 'yhat' is the predicted leads\n",
    "\n",
    "# Define the search space for TV and Radio spend (the Newspaper spend will be calculated from the total budget)\n",
    "space = [\n",
    "    Real(0, budget, name='tv_spend'),  # From 0 to 100,000 for TV spend\n",
    "    Real(0, budget, name='radio_spend')  # From 0 to 100,000 for Radio spend\n",
    "]\n",
    "\n",
    "# Load your trained Prophet model (this is a dummy load function, replace it with actual model loading)\n",
    "prophet_model = model\n",
    "\n",
    "# Objective function to minimize (negative leads because we want to maximize leads)\n",
    "@use_named_args(space)\n",
    "def objective(tv_spend, radio_spend):\n",
    "    # Calculate the remaining budget for Newspaper spend (total budget is 100,000)\n",
    "    newspaper_spend = budget - tv_spend - radio_spend\n",
    "    \n",
    "    # If the Newspaper spend is negative, return a very low (negative) value\n",
    "    if newspaper_spend < 0:\n",
    "        return 0  # This ensures the optimizer doesn't choose invalid combinations\n",
    "    \n",
    "    # Get the predicted leads from the Prophet model\n",
    "    predicted_leads = predict_leads(tv_spend, radio_spend, newspaper_spend, prophet_model, df_prophet_test)\n",
    "    \n",
    "    return -predicted_leads  # Minimize the negative of the predicted leads to maximize it\n",
    "\n",
    "# Run the Bayesian Optimization\n",
    "result = gp_minimize(objective, space, n_calls=50, random_state=42)\n",
    "\n",
    "# Output the best results\n",
    "print(\"Best TV Spend: \", result.x[0])\n",
    "print(\"Best Radio Spend: \", result.x[1])\n",
    "\n",
    "# Calculate the optimal Newspaper Spend (since the total is budget)\n",
    "best_newspaper_spend = budget - result.x[0] - result.x[1]\n",
    "print(\"Best Newspaper Spend: \", best_newspaper_spend)\n",
    "\n",
    "# Maximum Predicted Leads\n",
    "print(\"Maximum Predicted Leads: \", -result.fun)  # Negate the value to get the actual predicted leads"
   ]
  },
  {
   "cell_type": "markdown",
   "id": "431e8033",
   "metadata": {},
   "source": [
    "# Step 3: Compare baseline with \"optimal\""
   ]
  },
  {
   "cell_type": "code",
   "execution_count": null,
   "id": "0994143d-b44f-421f-8bdb-78e6251cf56b",
   "metadata": {},
   "outputs": [],
   "source": [
    "# original\n",
    "print(result_df['yhat'].sum())\n",
    "\n",
    "best_view = pd.DataFrame()\n",
    "\n",
    "tv_spend = 2272\n",
    "radio_spend = 701\n",
    "newspaper_spend = 26\n",
    "nrows = df_prophet_test.shape[0]\n",
    "\n",
    "# Assign the ad budgets to the dataframe columns\n",
    "best_view['ds'] = df_prophet_test['ds']\n",
    "best_view['TV Ad Budget ($)'] = [tv_spend/nrows] * nrows \n",
    "best_view['Radio Ad Budget ($)'] = [radio_spend/nrows] * nrows\n",
    "best_view['Newspaper Ad Budget ($)'] = [newspaper_spend/nrows] * nrows\n",
    "display(best_view)\n",
    "\n",
    "# Make the forecast using the model\n",
    "forecast = model.predict(best_view)\n",
    "\n",
    "bestview_df = pd.merge(df, forecast[['ds', 'yhat']], on='ds', how='left')\n",
    "bestview_df['prediction'] = np.where(bestview_df['yhat'].isnull(), bestview_df['y'], bestview_df['yhat'])\n",
    "display(bestview_df)\n",
    "\n",
    "# Plot the data\n",
    "plt.figure(figsize=(10, 6))  # Set figure size\n",
    "plt.plot(bestview_df[\"ds\"], bestview_df[\"y\"], label=\"Sales\", marker=\"o\", color='k')\n",
    "plt.plot(bestview_df[\"ds\"], bestview_df[\"yhat\"], label=\"Predicted Sales\", marker=\"s\", color='b')\n",
    "\n",
    "# Add a vertical line for 2024-01-01\n",
    "highlight_date = pd.Timestamp(\"2022-06-01\")\n",
    "plt.axvline(x=highlight_date, color=\"red\", linestyle=\"--\", label=\"2024-01-01\")\n",
    "\n",
    "# Rotate x-axis labels\n",
    "plt.xticks(rotation=90)\n",
    "\n",
    "# Add labels, title, and legend\n",
    "plt.xlabel(\"Date\")\n",
    "plt.ylabel(\"Values\")\n",
    "plt.title(\"Line Plot with Rotated Dates\")\n",
    "plt.legend()\n",
    "\n",
    "# Show the plot\n",
    "plt.tight_layout()  # Adjust layout to prevent cutoff of labels\n",
    "plt.show()"
   ]
  },
  {
   "cell_type": "code",
   "execution_count": null,
   "id": "c62b526d-ffd1-4455-a78b-6a0a306bec30",
   "metadata": {},
   "outputs": [],
   "source": [
    "bestview_df.yhat.sum()"
   ]
  }
 ],
 "metadata": {
  "kernelspec": {
   "display_name": "Python 3",
   "language": "python",
   "name": "python3"
  },
  "language_info": {
   "codemirror_mode": {
    "name": "ipython",
    "version": 3
   },
   "file_extension": ".py",
   "mimetype": "text/x-python",
   "name": "python",
   "nbconvert_exporter": "python",
   "pygments_lexer": "ipython3",
   "version": "3.8.8"
  }
 },
 "nbformat": 4,
 "nbformat_minor": 5
}
